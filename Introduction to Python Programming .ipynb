{
 "cells": [
  {
   "cell_type": "markdown",
   "id": "4f68b165",
   "metadata": {},
   "source": [
    "##### Chapter 1- First Python Programming\n"
   ]
  },
  {
   "cell_type": "markdown",
   "id": "a7cc7aba",
   "metadata": {},
   "source": [
    "## 1.1 Hello World"
   ]
  },
  {
   "cell_type": "code",
   "execution_count": 1,
   "id": "3b8d6054",
   "metadata": {},
   "outputs": [
    {
     "name": "stdout",
     "output_type": "stream",
     "text": [
      "Welcome to Data Science with John!!!\n"
     ]
    }
   ],
   "source": [
    "print(\"Welcome to Data Science with John!!!\")"
   ]
  },
  {
   "cell_type": "code",
   "execution_count": 2,
   "id": "65a72e0a",
   "metadata": {},
   "outputs": [
    {
     "name": "stdout",
     "output_type": "stream",
     "text": [
      "5\n"
     ]
    }
   ],
   "source": [
    "print(5)"
   ]
  },
  {
   "cell_type": "code",
   "execution_count": 3,
   "id": "f0a55149",
   "metadata": {},
   "outputs": [
    {
     "name": "stdout",
     "output_type": "stream",
     "text": [
      " 5+5\n"
     ]
    }
   ],
   "source": [
    "print(\" 5+5\")"
   ]
  },
  {
   "cell_type": "code",
   "execution_count": 4,
   "id": "845552cf",
   "metadata": {},
   "outputs": [
    {
     "name": "stdout",
     "output_type": "stream",
     "text": [
      "10\n"
     ]
    }
   ],
   "source": [
    "print(5+5)"
   ]
  },
  {
   "cell_type": "code",
   "execution_count": 5,
   "id": "aefbffab",
   "metadata": {},
   "outputs": [],
   "source": [
    "# we have to print multiple lines then have to take it within print statements "
   ]
  },
  {
   "cell_type": "code",
   "execution_count": 6,
   "id": "3fbbe3f8",
   "metadata": {},
   "outputs": [
    {
     "name": "stdout",
     "output_type": "stream",
     "text": [
      "Karan replied, \"Joh'n Session is good and matching may expectations\". \n"
     ]
    }
   ],
   "source": [
    "print(\"\"\"Karan replied, \"Joh'n Session is good and matching may expectations\". \"\"\")"
   ]
  },
  {
   "cell_type": "code",
   "execution_count": 7,
   "id": "6403d24b",
   "metadata": {
    "scrolled": true
   },
   "outputs": [
    {
     "name": "stdout",
     "output_type": "stream",
     "text": [
      "Karan replied, \"Joh'n Session is good and matching may expectations\". \n",
      "hi hello\n",
      "Machine Learning is good\n"
     ]
    }
   ],
   "source": [
    "print(\"\"\"Karan replied, \"Joh'n Session is good and matching may expectations\". \n",
    "hi hello\n",
    "Machine Learning is good\"\"\")"
   ]
  },
  {
   "cell_type": "markdown",
   "id": "bd091262",
   "metadata": {},
   "source": [
    "# 1.2 Create Variables"
   ]
  },
  {
   "cell_type": "code",
   "execution_count": 8,
   "id": "32f72607",
   "metadata": {},
   "outputs": [
    {
     "data": {
      "text/plain": [
       "'nivrut,dnyandev,sopan,muktai,eaknath,namdev,tukaram'"
      ]
     },
     "execution_count": 8,
     "metadata": {},
     "output_type": "execute_result"
    }
   ],
   "source": [
    "'nivrut,dnyandev,sopan,muktai,eaknath,namdev,tukaram' # string =within parenthesis  mupltiple values hold "
   ]
  },
  {
   "cell_type": "code",
   "execution_count": 9,
   "id": "49d3367c",
   "metadata": {},
   "outputs": [
    {
     "data": {
      "text/plain": [
       "['nivruti', 'dnyandev', 'sopan', 'muktai', 'eaknath', 'namdev', 'tukaram']"
      ]
     },
     "execution_count": 9,
     "metadata": {},
     "output_type": "execute_result"
    }
   ],
   "source": [
    "['nivruti','dnyandev','sopan','muktai','eaknath','namdev','tukaram'] # List = multiple strings hold in brackets "
   ]
  },
  {
   "cell_type": "code",
   "execution_count": 10,
   "id": "6817d15e",
   "metadata": {},
   "outputs": [],
   "source": [
    "participants = ['nivruti','dnyandev','sopan','muktai','eaknath','namdev','tukaram']"
   ]
  },
  {
   "cell_type": "code",
   "execution_count": 11,
   "id": "bae6c0ff",
   "metadata": {},
   "outputs": [
    {
     "data": {
      "text/plain": [
       "['nivruti', 'dnyandev', 'sopan', 'muktai', 'eaknath', 'namdev', 'tukaram']"
      ]
     },
     "execution_count": 11,
     "metadata": {},
     "output_type": "execute_result"
    }
   ],
   "source": [
    "participants"
   ]
  },
  {
   "cell_type": "code",
   "execution_count": 12,
   "id": "34d80114",
   "metadata": {},
   "outputs": [
    {
     "data": {
      "text/plain": [
       "7"
      ]
     },
     "execution_count": 12,
     "metadata": {},
     "output_type": "execute_result"
    }
   ],
   "source": [
    "len(participants)"
   ]
  },
  {
   "cell_type": "code",
   "execution_count": 13,
   "id": "d71d2f55",
   "metadata": {},
   "outputs": [
    {
     "data": {
      "text/plain": [
       "['dnyandev', 'sopan']"
      ]
     },
     "execution_count": 13,
     "metadata": {},
     "output_type": "execute_result"
    }
   ],
   "source": [
    "participants[1:3]"
   ]
  },
  {
   "cell_type": "code",
   "execution_count": 14,
   "id": "7505e554",
   "metadata": {},
   "outputs": [
    {
     "data": {
      "text/plain": [
       "'nivruti'"
      ]
     },
     "execution_count": 14,
     "metadata": {},
     "output_type": "execute_result"
    }
   ],
   "source": [
    "participants[0]"
   ]
  },
  {
   "cell_type": "code",
   "execution_count": 15,
   "id": "a9e4c383",
   "metadata": {},
   "outputs": [
    {
     "data": {
      "text/plain": [
       "'tukaram'"
      ]
     },
     "execution_count": 15,
     "metadata": {},
     "output_type": "execute_result"
    }
   ],
   "source": [
    "participants[-1]"
   ]
  },
  {
   "cell_type": "code",
   "execution_count": 16,
   "id": "14db966c",
   "metadata": {},
   "outputs": [
    {
     "data": {
      "text/plain": [
       "['sopan', 'muktai', 'eaknath', 'namdev']"
      ]
     },
     "execution_count": 16,
     "metadata": {},
     "output_type": "execute_result"
    }
   ],
   "source": [
    "participants[-5:-1]"
   ]
  },
  {
   "cell_type": "code",
   "execution_count": 17,
   "id": "9a7503c5",
   "metadata": {},
   "outputs": [
    {
     "data": {
      "text/plain": [
       "['nivruti', 'dnyandev', 'sopan', 'muktai', 'eaknath', 'namdev']"
      ]
     },
     "execution_count": 17,
     "metadata": {},
     "output_type": "execute_result"
    }
   ],
   "source": [
    "participants[-7:-1]"
   ]
  },
  {
   "cell_type": "code",
   "execution_count": 18,
   "id": "f4e03f04",
   "metadata": {},
   "outputs": [
    {
     "data": {
      "text/plain": [
       "['nivruti', 'dnyandev', 'sopan', 'muktai', 'eaknath', 'namdev']"
      ]
     },
     "execution_count": 18,
     "metadata": {},
     "output_type": "execute_result"
    }
   ],
   "source": [
    "participants[0:6]"
   ]
  },
  {
   "cell_type": "code",
   "execution_count": 19,
   "id": "67876167",
   "metadata": {},
   "outputs": [
    {
     "data": {
      "text/plain": [
       "['nivruti']"
      ]
     },
     "execution_count": 19,
     "metadata": {},
     "output_type": "execute_result"
    }
   ],
   "source": [
    "participants[:1]"
   ]
  },
  {
   "cell_type": "code",
   "execution_count": 20,
   "id": "f6a0a64a",
   "metadata": {},
   "outputs": [
    {
     "data": {
      "text/plain": [
       "['nivruti', 'dnyandev', 'sopan', 'muktai', 'eaknath']"
      ]
     },
     "execution_count": 20,
     "metadata": {},
     "output_type": "execute_result"
    }
   ],
   "source": [
    "participants[:5]"
   ]
  },
  {
   "cell_type": "code",
   "execution_count": 21,
   "id": "a8dd9cb9",
   "metadata": {},
   "outputs": [
    {
     "data": {
      "text/plain": [
       "['nivruti', 'dnyandev', 'sopan', 'muktai', 'eaknath', 'namdev', 'tukaram']"
      ]
     },
     "execution_count": 21,
     "metadata": {},
     "output_type": "execute_result"
    }
   ],
   "source": [
    "participants[:]"
   ]
  },
  {
   "cell_type": "code",
   "execution_count": 22,
   "id": "103ea286",
   "metadata": {},
   "outputs": [
    {
     "data": {
      "text/plain": [
       "'nivruti'"
      ]
     },
     "execution_count": 22,
     "metadata": {},
     "output_type": "execute_result"
    }
   ],
   "source": [
    "participants[0]"
   ]
  },
  {
   "cell_type": "code",
   "execution_count": 23,
   "id": "f389e90d",
   "metadata": {},
   "outputs": [
    {
     "data": {
      "text/plain": [
       "'tukaram'"
      ]
     },
     "execution_count": 23,
     "metadata": {},
     "output_type": "execute_result"
    }
   ],
   "source": [
    "participants[6]"
   ]
  },
  {
   "cell_type": "markdown",
   "id": "e27dd492",
   "metadata": {},
   "source": [
    "# Chapter 2- String & String Methods "
   ]
  },
  {
   "cell_type": "markdown",
   "id": "67bd3cd1",
   "metadata": {},
   "source": [
    "## 3 Data Types in Python \n",
    "\n",
    "1. Int    - Numbers without decimals.\n",
    "2. Float   - Numbers with decimals.\n",
    "3. String    - Anything enclosed withing quotes."
   ]
  },
  {
   "cell_type": "markdown",
   "id": "c7eff9b4",
   "metadata": {},
   "source": [
    "# 2.1 What is String ?"
   ]
  },
  {
   "cell_type": "code",
   "execution_count": 24,
   "id": "e60b9130",
   "metadata": {},
   "outputs": [],
   "source": [
    "loki_average_score = '99.5%'"
   ]
  },
  {
   "cell_type": "code",
   "execution_count": 25,
   "id": "2b11fd82",
   "metadata": {},
   "outputs": [
    {
     "data": {
      "text/plain": [
       "str"
      ]
     },
     "execution_count": 25,
     "metadata": {},
     "output_type": "execute_result"
    }
   ],
   "source": [
    "type(loki_average_score)"
   ]
  },
  {
   "cell_type": "code",
   "execution_count": 26,
   "id": "7b2dd07c",
   "metadata": {},
   "outputs": [],
   "source": [
    "# anything is enclosed within single double and triple code is strings"
   ]
  },
  {
   "cell_type": "code",
   "execution_count": 27,
   "id": "522062de",
   "metadata": {},
   "outputs": [],
   "source": [
    "loki_average_score_1 = 99.5"
   ]
  },
  {
   "cell_type": "code",
   "execution_count": 28,
   "id": "cf6a83d1",
   "metadata": {},
   "outputs": [
    {
     "data": {
      "text/plain": [
       "float"
      ]
     },
     "execution_count": 28,
     "metadata": {},
     "output_type": "execute_result"
    }
   ],
   "source": [
    "type(loki_average_score_1)"
   ]
  },
  {
   "cell_type": "code",
   "execution_count": 29,
   "id": "e83c885f",
   "metadata": {},
   "outputs": [],
   "source": [
    "loki_average_score_2 = 99"
   ]
  },
  {
   "cell_type": "code",
   "execution_count": 30,
   "id": "14adfc24",
   "metadata": {
    "scrolled": true
   },
   "outputs": [
    {
     "data": {
      "text/plain": [
       "int"
      ]
     },
     "execution_count": 30,
     "metadata": {},
     "output_type": "execute_result"
    }
   ],
   "source": [
    "type(loki_average_score_2)"
   ]
  },
  {
   "cell_type": "markdown",
   "id": "ca210cf1",
   "metadata": {},
   "source": [
    "# 2.2 Concatenation - Indexing -Slicing "
   ]
  },
  {
   "cell_type": "code",
   "execution_count": 31,
   "id": "71c896a1",
   "metadata": {},
   "outputs": [],
   "source": [
    "fname = 'Harshal'\n",
    "lname = 'Salaskar'\n",
    "age = 32"
   ]
  },
  {
   "cell_type": "code",
   "execution_count": 32,
   "id": "4c31ffff",
   "metadata": {},
   "outputs": [],
   "source": [
    "marks = 89.98"
   ]
  },
  {
   "cell_type": "code",
   "execution_count": 33,
   "id": "48e28101",
   "metadata": {},
   "outputs": [
    {
     "data": {
      "text/plain": [
       "'HarshalSalaskar'"
      ]
     },
     "execution_count": 33,
     "metadata": {},
     "output_type": "execute_result"
    }
   ],
   "source": [
    "fname + lname "
   ]
  },
  {
   "cell_type": "code",
   "execution_count": 34,
   "id": "dd3d24bc",
   "metadata": {},
   "outputs": [
    {
     "data": {
      "text/plain": [
       "'Harshal Salaskar'"
      ]
     },
     "execution_count": 34,
     "metadata": {},
     "output_type": "execute_result"
    }
   ],
   "source": [
    "fname + ' ' +lname "
   ]
  },
  {
   "cell_type": "code",
   "execution_count": 35,
   "id": "33b3930a",
   "metadata": {
    "scrolled": true
   },
   "outputs": [
    {
     "data": {
      "text/plain": [
       "'Harshal Salaskar 32'"
      ]
     },
     "execution_count": 35,
     "metadata": {},
     "output_type": "execute_result"
    }
   ],
   "source": [
    "fname +' ' + lname + ' ' + str(age) # TypeCasting = changing the data tye to an another data type is typecastiong "
   ]
  },
  {
   "cell_type": "code",
   "execution_count": 36,
   "id": "f4f5fef7",
   "metadata": {},
   "outputs": [
    {
     "name": "stdout",
     "output_type": "stream",
     "text": [
      "Harshal Salaskar 32\n"
     ]
    }
   ],
   "source": [
    "print(fname +' ' + lname + ' ' + str(age)) # concatenation and typecasting"
   ]
  },
  {
   "cell_type": "code",
   "execution_count": 37,
   "id": "46b21343",
   "metadata": {
    "scrolled": true
   },
   "outputs": [
    {
     "name": "stdout",
     "output_type": "stream",
     "text": [
      "Harshal Salaskar 89.98\n"
     ]
    }
   ],
   "source": [
    "print(fname +' ' + lname + ' ' + str(marks))"
   ]
  },
  {
   "cell_type": "code",
   "execution_count": 38,
   "id": "c0591132",
   "metadata": {
    "scrolled": true
   },
   "outputs": [
    {
     "name": "stdout",
     "output_type": "stream",
     "text": [
      "Harshal Salaskar 89.98\n"
     ]
    }
   ],
   "source": [
    "print(fname +' ' + lname + ' ' + str(marks))"
   ]
  },
  {
   "cell_type": "code",
   "execution_count": 39,
   "id": "1f47e754",
   "metadata": {},
   "outputs": [
    {
     "name": "stdout",
     "output_type": "stream",
     "text": [
      "89.98\n",
      "89.98\n",
      "89.98\n",
      "89\n"
     ]
    }
   ],
   "source": [
    "print(marks)\n",
    "print(str(marks))\n",
    "print(float(str(marks)))\n",
    "print(int(float(str(marks))))"
   ]
  },
  {
   "cell_type": "code",
   "execution_count": 40,
   "id": "68f6778f",
   "metadata": {
    "scrolled": true
   },
   "outputs": [
    {
     "name": "stdout",
     "output_type": "stream",
     "text": [
      "Harshal Salaskar 32\n"
     ]
    }
   ],
   "source": [
    "print(fname,lname,age)"
   ]
  },
  {
   "cell_type": "code",
   "execution_count": 41,
   "id": "92b84e85",
   "metadata": {
    "scrolled": true
   },
   "outputs": [
    {
     "name": "stdout",
     "output_type": "stream",
     "text": [
      "First Name - Harshal Last Name- Salaskar Age- 32\n"
     ]
    }
   ],
   "source": [
    "print('First Name -',fname, 'Last Name-',lname ,'Age-',age)"
   ]
  },
  {
   "cell_type": "code",
   "execution_count": 42,
   "id": "5249223a",
   "metadata": {},
   "outputs": [],
   "source": [
    "# Escape sequences "
   ]
  },
  {
   "cell_type": "code",
   "execution_count": 43,
   "id": "07c8286a",
   "metadata": {
    "scrolled": true
   },
   "outputs": [
    {
     "name": "stdout",
     "output_type": "stream",
     "text": [
      "First Name - Harshal \n",
      "Last Name- Salaskar \n",
      "Age- 32\n"
     ]
    }
   ],
   "source": [
    "print('First Name -',fname, '\\nLast Name-',lname ,'\\nAge-',age)"
   ]
  },
  {
   "cell_type": "code",
   "execution_count": 44,
   "id": "9f1eeb49",
   "metadata": {
    "scrolled": false
   },
   "outputs": [
    {
     "name": "stdout",
     "output_type": "stream",
     "text": [
      "First Name - Harshal \tLast Name- Salaskar \tAge- 32\n"
     ]
    }
   ],
   "source": [
    "print('First Name -',fname, '\\tLast Name-',lname ,'\\tAge-',age)"
   ]
  },
  {
   "cell_type": "code",
   "execution_count": 45,
   "id": "09e658f7",
   "metadata": {},
   "outputs": [
    {
     "data": {
      "text/plain": [
       "'80.98'"
      ]
     },
     "execution_count": 45,
     "metadata": {},
     "output_type": "execute_result"
    }
   ],
   "source": [
    "score = '80.98'\n",
    "score"
   ]
  },
  {
   "cell_type": "code",
   "execution_count": 46,
   "id": "2cd88eca",
   "metadata": {},
   "outputs": [
    {
     "data": {
      "text/plain": [
       "80.98"
      ]
     },
     "execution_count": 46,
     "metadata": {},
     "output_type": "execute_result"
    }
   ],
   "source": [
    "float(score)"
   ]
  },
  {
   "cell_type": "code",
   "execution_count": 47,
   "id": "0370a3e4",
   "metadata": {
    "scrolled": true
   },
   "outputs": [
    {
     "data": {
      "text/plain": [
       "80"
      ]
     },
     "execution_count": 47,
     "metadata": {},
     "output_type": "execute_result"
    }
   ],
   "source": [
    "int(float(score))"
   ]
  },
  {
   "cell_type": "code",
   "execution_count": 48,
   "id": "ec4f55e7",
   "metadata": {},
   "outputs": [
    {
     "data": {
      "text/plain": [
       "'Salaskar'"
      ]
     },
     "execution_count": 48,
     "metadata": {},
     "output_type": "execute_result"
    }
   ],
   "source": [
    "lname"
   ]
  },
  {
   "cell_type": "code",
   "execution_count": 49,
   "id": "fadb5e67",
   "metadata": {},
   "outputs": [
    {
     "data": {
      "text/plain": [
       "'a'"
      ]
     },
     "execution_count": 49,
     "metadata": {},
     "output_type": "execute_result"
    }
   ],
   "source": [
    "lname[-2]"
   ]
  },
  {
   "cell_type": "code",
   "execution_count": 50,
   "id": "78696454",
   "metadata": {},
   "outputs": [
    {
     "data": {
      "text/plain": [
       "'laskar'"
      ]
     },
     "execution_count": 50,
     "metadata": {},
     "output_type": "execute_result"
    }
   ],
   "source": [
    "lname[2:]"
   ]
  },
  {
   "cell_type": "markdown",
   "id": "064ef7b2",
   "metadata": {},
   "source": [
    "# 2.3 Manipulate String With String Funtions"
   ]
  },
  {
   "cell_type": "code",
   "execution_count": 51,
   "id": "279d760c",
   "metadata": {},
   "outputs": [],
   "source": [
    "learner_1 = 'pranjya'\n",
    "learner_2 = 'nandyala'\n",
    "learner_3 = '    pravin'\n",
    "learner_4 = '   shreya   '"
   ]
  },
  {
   "cell_type": "code",
   "execution_count": 52,
   "id": "a6c6e486",
   "metadata": {},
   "outputs": [
    {
     "data": {
      "text/plain": [
       "('pranjya', 'nandyala', '    pravin', '   shreya   ')"
      ]
     },
     "execution_count": 52,
     "metadata": {},
     "output_type": "execute_result"
    }
   ],
   "source": [
    "learner_1,learner_2,learner_3,learner_4"
   ]
  },
  {
   "cell_type": "code",
   "execution_count": 53,
   "id": "6ebd6aed",
   "metadata": {},
   "outputs": [
    {
     "name": "stdout",
     "output_type": "stream",
     "text": [
      "pranjya\n",
      "nandyala\n",
      "    pravin\n",
      "   shreya   \n"
     ]
    }
   ],
   "source": [
    "print(learner_1)\n",
    "print(learner_2)\n",
    "print(learner_3)\n",
    "print(learner_4)"
   ]
  },
  {
   "cell_type": "code",
   "execution_count": 54,
   "id": "cbe5b9ec",
   "metadata": {},
   "outputs": [
    {
     "name": "stdout",
     "output_type": "stream",
     "text": [
      "pranjya\n"
     ]
    }
   ],
   "source": [
    "print(learner_1)"
   ]
  },
  {
   "cell_type": "code",
   "execution_count": 55,
   "id": "469f5327",
   "metadata": {},
   "outputs": [
    {
     "data": {
      "text/plain": [
       "str"
      ]
     },
     "execution_count": 55,
     "metadata": {},
     "output_type": "execute_result"
    }
   ],
   "source": [
    "type(learner_1)"
   ]
  },
  {
   "cell_type": "code",
   "execution_count": 56,
   "id": "738f8fc2",
   "metadata": {},
   "outputs": [
    {
     "data": {
      "text/plain": [
       "7"
      ]
     },
     "execution_count": 56,
     "metadata": {},
     "output_type": "execute_result"
    }
   ],
   "source": [
    "len(learner_1)"
   ]
  },
  {
   "cell_type": "markdown",
   "id": "12d6aeb1",
   "metadata": {},
   "source": [
    "# NOTE:-\n",
    "\n",
    "### Why Function/Method?\n",
    "\n",
    "**To perform an operation on top of my variable.**\n",
    "\n",
    "**It need to be enclosed with () always.**   "
   ]
  },
  {
   "cell_type": "markdown",
   "id": "c030ad9b",
   "metadata": {},
   "source": [
    "# NOTE:-\n",
    "\n",
    "### Why Function/Method?\n",
    "\n",
    "* **To perform an operation on top of my variable.**\n",
    "\n",
    "* **It need to be enclosed with () always.**   "
   ]
  },
  {
   "cell_type": "code",
   "execution_count": 57,
   "id": "64b7a0a8",
   "metadata": {},
   "outputs": [],
   "source": [
    "# * ** double asterisk symbol means to give bulletin points"
   ]
  },
  {
   "cell_type": "code",
   "execution_count": 58,
   "id": "847e93b6",
   "metadata": {},
   "outputs": [
    {
     "data": {
      "text/plain": [
       "'PRANJYA'"
      ]
     },
     "execution_count": 58,
     "metadata": {},
     "output_type": "execute_result"
    }
   ],
   "source": [
    "learner_1.upper()"
   ]
  },
  {
   "cell_type": "code",
   "execution_count": 59,
   "id": "960e9554",
   "metadata": {},
   "outputs": [
    {
     "data": {
      "text/plain": [
       "'pranjya'"
      ]
     },
     "execution_count": 59,
     "metadata": {},
     "output_type": "execute_result"
    }
   ],
   "source": [
    "learner_1.lower()"
   ]
  },
  {
   "cell_type": "code",
   "execution_count": 60,
   "id": "326ace84",
   "metadata": {},
   "outputs": [
    {
     "data": {
      "text/plain": [
       "'Nandyala'"
      ]
     },
     "execution_count": 60,
     "metadata": {},
     "output_type": "execute_result"
    }
   ],
   "source": [
    "learner_2.capitalize()"
   ]
  },
  {
   "cell_type": "code",
   "execution_count": 61,
   "id": "4d82a845",
   "metadata": {},
   "outputs": [
    {
     "data": {
      "text/plain": [
       "'pravin'"
      ]
     },
     "execution_count": 61,
     "metadata": {},
     "output_type": "execute_result"
    }
   ],
   "source": [
    "learner_3.strip()"
   ]
  },
  {
   "cell_type": "code",
   "execution_count": 62,
   "id": "21df3e2b",
   "metadata": {},
   "outputs": [
    {
     "data": {
      "text/plain": [
       "'shreya   '"
      ]
     },
     "execution_count": 62,
     "metadata": {},
     "output_type": "execute_result"
    }
   ],
   "source": [
    "learner_4.lstrip()"
   ]
  },
  {
   "cell_type": "code",
   "execution_count": 63,
   "id": "e5b9ce8b",
   "metadata": {},
   "outputs": [],
   "source": [
    "# we can use two string functions in one programme "
   ]
  },
  {
   "cell_type": "code",
   "execution_count": 64,
   "id": "db70bfe9",
   "metadata": {},
   "outputs": [],
   "source": [
    "variable = 'abc def ghi ijk lmn opq rst uvw xyz'"
   ]
  },
  {
   "cell_type": "code",
   "execution_count": 65,
   "id": "a90f4597",
   "metadata": {},
   "outputs": [
    {
     "data": {
      "text/plain": [
       "'abc def ghi ijk lmn opq rst uvw xyz'"
      ]
     },
     "execution_count": 65,
     "metadata": {},
     "output_type": "execute_result"
    }
   ],
   "source": [
    "variable"
   ]
  },
  {
   "cell_type": "code",
   "execution_count": 66,
   "id": "76e9d653",
   "metadata": {},
   "outputs": [
    {
     "data": {
      "text/plain": [
       "'abcdefghiijklmnopqrstuvwxyz'"
      ]
     },
     "execution_count": 66,
     "metadata": {},
     "output_type": "execute_result"
    }
   ],
   "source": [
    "variable.replace(' ', '')"
   ]
  },
  {
   "cell_type": "code",
   "execution_count": 67,
   "id": "0f7bc9e2",
   "metadata": {},
   "outputs": [
    {
     "data": {
      "text/plain": [
       "1.15"
      ]
     },
     "execution_count": 67,
     "metadata": {},
     "output_type": "execute_result"
    }
   ],
   "source": [
    "1.15"
   ]
  },
  {
   "cell_type": "code",
   "execution_count": 68,
   "id": "bee1881c",
   "metadata": {},
   "outputs": [],
   "source": [
    "learner_1 = learner_1.upper()\n",
    "learner_2 = learner_2.capitalize()\n",
    "learner_3 = learner_3.strip()\n",
    "learner_4 = learner_4.strip()"
   ]
  },
  {
   "cell_type": "code",
   "execution_count": 69,
   "id": "ead05b2f",
   "metadata": {},
   "outputs": [
    {
     "name": "stdout",
     "output_type": "stream",
     "text": [
      "PRANJYA\n",
      "Nandyala\n",
      "pravin\n",
      "shreya\n"
     ]
    }
   ],
   "source": [
    "print(learner_1)\n",
    "print(learner_2)\n",
    "print(learner_3)\n",
    "print(learner_4)"
   ]
  },
  {
   "cell_type": "markdown",
   "id": "4be83c52",
   "metadata": {},
   "source": [
    "# Daily Task -1\n",
    "\n",
    "### Explore all string functions and come up with 2 examples for each functions."
   ]
  },
  {
   "cell_type": "markdown",
   "id": "6d62006b",
   "metadata": {},
   "source": [
    "# 2.4 Interact with user inputs"
   ]
  },
  {
   "cell_type": "code",
   "execution_count": 70,
   "id": "a11027be",
   "metadata": {},
   "outputs": [
    {
     "name": "stdout",
     "output_type": "stream",
     "text": [
      "Password:Login@123\n"
     ]
    },
    {
     "data": {
      "text/plain": [
       "'Login@123'"
      ]
     },
     "execution_count": 70,
     "metadata": {},
     "output_type": "execute_result"
    }
   ],
   "source": [
    "input('Password:') # Login@123"
   ]
  },
  {
   "cell_type": "code",
   "execution_count": 71,
   "id": "3bc5eb5c",
   "metadata": {},
   "outputs": [
    {
     "name": "stdout",
     "output_type": "stream",
     "text": [
      "Password:123456789\n"
     ]
    },
    {
     "data": {
      "text/plain": [
       "'123456789'"
      ]
     },
     "execution_count": 71,
     "metadata": {},
     "output_type": "execute_result"
    }
   ],
   "source": [
    "input('Password:') # 123456789"
   ]
  },
  {
   "cell_type": "code",
   "execution_count": null,
   "id": "a536f510",
   "metadata": {},
   "outputs": [],
   "source": [
    "user_input = input('Password:')\n",
    "print('First Letter Starts With', user_input[0])"
   ]
  },
  {
   "cell_type": "markdown",
   "id": "34c2eb27",
   "metadata": {},
   "source": [
    "# 2.5 Get 2 inputs from the users and display it."
   ]
  },
  {
   "cell_type": "code",
   "execution_count": null,
   "id": "b716c9c0",
   "metadata": {},
   "outputs": [],
   "source": [
    "name_students = input('Umesh:')\n",
    "\n",
    "print('Topper of 2024',name_students)"
   ]
  },
  {
   "cell_type": "code",
   "execution_count": null,
   "id": "103bba4c",
   "metadata": {},
   "outputs": [],
   "source": [
    "Passout_year_students = input(2024)\n",
    "print('Completed Education',Passout_year_students)"
   ]
  },
  {
   "cell_type": "code",
   "execution_count": null,
   "id": "9c994b2f",
   "metadata": {},
   "outputs": [],
   "source": [
    "college = input('IIT:')\n",
    "print('First number college in india ',college)"
   ]
  },
  {
   "cell_type": "code",
   "execution_count": null,
   "id": "94439306",
   "metadata": {},
   "outputs": [],
   "source": [
    "num1 = 99\n",
    "num2 = 99\n",
    "\n",
    "sum = num1 + num2 \n",
    "print(sum)"
   ]
  },
  {
   "cell_type": "code",
   "execution_count": null,
   "id": "129849d7",
   "metadata": {},
   "outputs": [],
   "source": [
    "value_1 = input('Value:')\n",
    "value_2 = input('Value:')\n",
    "print('Values of both input is -',value_1,value_2)"
   ]
  },
  {
   "cell_type": "code",
   "execution_count": null,
   "id": "1eb4a814",
   "metadata": {},
   "outputs": [],
   "source": [
    "name = input('Name:')\n",
    "age = input('Age:')\n",
    "print('Name - {}  \\n Age - {}'.format(name,age)) #  {} curly braces is placeholders \n",
    "# print formating there are more ways for print formating"
   ]
  },
  {
   "cell_type": "markdown",
   "id": "6b2b2eef",
   "metadata": {},
   "source": [
    "# Python string functions"
   ]
  },
  {
   "cell_type": "markdown",
   "id": "608f4786",
   "metadata": {},
   "source": [
    "Method\tDescription\n",
    "capitalize()\tConverts the first character to upper case\n",
    "casefold()\tConverts string into lower case\n",
    "center()\tReturns a centered string\n",
    "count()\tReturns the number of times a specified value occurs in a string\n",
    "encode()\tReturns an encoded version of the string\n",
    "endswith()\tReturns true if the string ends with the specified value\n",
    "expandtabs()\tSets the tab size of the string\n",
    "find()\tSearches the string for a specified value and returns the position of where it was found\n",
    "format()\tFormats specified values in a string\n",
    "format_map()\tFormats specified values in a string\n",
    "index()\tSearches the string for a specified value and returns the position of where it was found\n",
    "isalnum()\tReturns True if all characters in the string are alphanumeric\n",
    "isalpha()\tReturns True if all characters in the string are in the alphabet\n",
    "isascii()\tReturns True if all characters in the string are ascii characters\n",
    "isdecimal()\tReturns True if all characters in the string are decimals\n",
    "isdigit()\tReturns True if all characters in the string are digits\n",
    "isidentifier()\tReturns True if the string is an identifier\n",
    "islower()\tReturns True if all characters in the string are lower case\n",
    "isnumeric()\tReturns True if all characters in the string are numeric\n",
    "isprintable()\tReturns True if all characters in the string are printable\n",
    "isspace()\tReturns True if all characters in the string are whitespaces\n",
    "istitle()\tReturns True if the string follows the rules of a title\n",
    "isupper()\tReturns True if all characters in the string are upper case\n",
    "join()\tConverts the elements of an iterable into a string\n",
    "ljust()\tReturns a left justified version of the string\n",
    "lower()\tConverts a string into lower case\n",
    "lstrip()\tReturns a left trim version of the string\n",
    "maketrans()\tReturns a translation table to be used in translations\n",
    "partition()\tReturns a tuple where the string is parted into three parts\n",
    "replace()\tReturns a string where a specified value is replaced with a specified value\n",
    "rfind()\tSearches the string for a specified value and returns the last position of where it was found\n",
    "rindex()\tSearches the string for a specified value and returns the last position of where it was found\n",
    "rjust()\tReturns a right justified version of the string\n",
    "rpartition()\tReturns a tuple where the string is parted into three parts\n",
    "rsplit()\tSplits the string at the specified separator, and returns a list\n",
    "rstrip()\tReturns a right trim version of the string\n",
    "split()\tSplits the string at the specified separator, and returns a list\n",
    "splitlines()\tSplits the string at line breaks and returns a list\n",
    "startswith()\tReturns true if the string starts with the specified value\n",
    "strip()\tReturns a trimmed version of the string\n",
    "swapcase()\tSwaps cases, lower case becomes upper case and vice versa\n",
    "title()\tConverts the first character of each word to upper case\n",
    "translate()\tReturns a translated string\n",
    "upper()\tConverts a string into upper case\n",
    "zfill()\tFills the string with a specified number of 0 values at the beginning"
   ]
  },
  {
   "cell_type": "code",
   "execution_count": null,
   "id": "5239bc38",
   "metadata": {},
   "outputs": [],
   "source": []
  }
 ],
 "metadata": {
  "kernelspec": {
   "display_name": "Python 3 (ipykernel)",
   "language": "python",
   "name": "python3"
  },
  "language_info": {
   "codemirror_mode": {
    "name": "ipython",
    "version": 3
   },
   "file_extension": ".py",
   "mimetype": "text/x-python",
   "name": "python",
   "nbconvert_exporter": "python",
   "pygments_lexer": "ipython3",
   "version": "3.9.7"
  }
 },
 "nbformat": 4,
 "nbformat_minor": 5
}
